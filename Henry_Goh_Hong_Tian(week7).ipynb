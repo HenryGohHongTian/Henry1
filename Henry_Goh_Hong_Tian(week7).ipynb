{
 "cells": [
  {
   "cell_type": "markdown",
   "id": "e00de177",
   "metadata": {},
   "source": [
    "## Setup\n"
   ]
  },
  {
   "cell_type": "code",
   "execution_count": 7,
   "id": "981eba11",
   "metadata": {},
   "outputs": [],
   "source": [
    "import numpy as np\n",
    "import cv2 as cv\n",
    "import matplotlib.pyplot as plt"
   ]
  },
  {
   "cell_type": "markdown",
   "id": "203ab6f9",
   "metadata": {},
   "source": [
    "# Weekly activity\n",
    "1 Apply histogram equalization on a histogram equalized image. In other words, apply histogram equalization twice on an image. Is there any difference between the first and second output image? You are free to use any image.\n",
    "\n",
    "2 Load the image 'electronic.jfif'. Then,\n",
    "* Experiment with different kernel size. Which kernel size is the most appropriate?\n",
    "* Perform edge detection using Sobel operator (combined both x and y) with and without image smoothing (Gaussian blurring). Display the 2 images.\n",
    "* Try Laplacian of Gaussian\n",
    "\n",
    "Based on the exercise conducted from (A) - (C), which image processing pathway is optimal? Justify your answer.\n",
    "\n",
    "3 Experiment with different edge detectors: Sobel, Laplacian, Prewitt, Scharr derivatives and Canny operators (all with aperture size of 3) on image named 'pineapple.jfif'. Comment on the results.\n",
    "\n",
    "4 Write a program to identify the white object (probably laptop) present in the image 'electronic.jfif'. Draw bounding boxes on the objects."
   ]
  },
  {
   "cell_type": "markdown",
   "id": "c1140189",
   "metadata": {},
   "source": [
    "## Exercise 1\n"
   ]
  },
  {
   "cell_type": "code",
   "execution_count": 15,
   "id": "d36b2e43",
   "metadata": {},
   "outputs": [],
   "source": [
    "img = cv.imread('dog1.jfif', 0)\n",
    "\n",
    "eq = cv.equalizeHist(img)\n",
    "\n",
    "eq1 = cv.equalizeHist(eq)\n",
    "\n",
    "cv.imshow('result', np.hstack((eq, eq1)))\n",
    "cv.waitKey(0)\n",
    "cv.destroyAllWindows()"
   ]
  },
  {
   "cell_type": "markdown",
   "id": "197122ba",
   "metadata": {},
   "source": [
    "- These is no difference between the first and second output image."
   ]
  },
  {
   "cell_type": "markdown",
   "id": "b600afc4",
   "metadata": {},
   "source": [
    "## Exercise 2"
   ]
  },
  {
   "cell_type": "code",
   "execution_count": 16,
   "id": "0986de58",
   "metadata": {},
   "outputs": [],
   "source": [
    "img = cv.imread('electronic.jfif', 0)\n",
    "img_blur = cv.GaussianBlur(img, (5, 5), 0)\n",
    "\n",
    "# Sobel operator with Gaussian blurring\n",
    "\n",
    "sobelx_blur = cv.Sobel(img_blur, cv.CV_64F, 1, 0, ksize = 3)\n",
    "sobely_blur = cv.Sobel(img_blur, cv.CV_64F, 0, 1, ksize = 3)\n",
    "\n",
    "grad_mag_L1_blur = cv.add(np.absolute(sobelx_blur), np.absolute(sobely_blur))\n",
    "grad_mag_L1_blur = cv.convertScaleAbs(grad_mag_L1_blur)\n",
    "\n",
    "# Sobel operator without Gaussian blurring\n",
    "\n",
    "sobelx = cv.Sobel(img, cv.CV_64F, 1, 0, ksize = 3)\n",
    "sobely = cv.Sobel(img, cv.CV_64F, 0, 1, ksize = 3)\n",
    "\n",
    "grad_mag_L1 = cv.add(np.absolute(sobelx), np.absolute(sobely))\n",
    "grad_mag_L1 = cv.convertScaleAbs(grad_mag_L1)\n",
    "\n",
    "# Laplacian of Gaussian\n",
    "\n",
    "laplacian_blur = cv.Laplacian(img_blur, cv.CV_64F, ksize = 3)\n",
    "laplacian_blur = np.uint8(np.absolute(laplacian_blur))\n",
    "\n",
    "cv.imshow('result', np.hstack((grad_mag_L1_blur, grad_mag_L1, laplacian_blur)))\n",
    "cv.waitKey(0)\n",
    "cv.destroyAllWindows()"
   ]
  },
  {
   "cell_type": "markdown",
   "id": "141dea08",
   "metadata": {},
   "source": [
    " - The kernel size of 3 is the most appropriate. The most optimal image processing pathway is  sobel operator with gaussian blurring."
   ]
  },
  {
   "cell_type": "markdown",
   "id": "d3085896",
   "metadata": {},
   "source": [
    "## Exercise 3"
   ]
  },
  {
   "cell_type": "code",
   "execution_count": 10,
   "id": "4055a2c7",
   "metadata": {},
   "outputs": [],
   "source": [
    "img = cv.imread('pineapple.jfif', 0)\n",
    "img_blur = cv.GaussianBlur(img, (5, 5), 0)\n",
    "\n",
    "# Sobel operator\n",
    "\n",
    "sobelx_blur = cv.Sobel(img_blur, cv.CV_64F, 1, 0, ksize = 3)\n",
    "sobely_blur = cv.Sobel(img_blur, cv.CV_64F, 0, 1, ksize = 3)\n",
    "\n",
    "grad_mag_L1_blur = cv.add(np.absolute(sobelx_blur), np.absolute(sobely_blur))\n",
    "grad_mag_L1_blur = cv.convertScaleAbs(grad_mag_L1_blur)\n",
    "\n",
    "# Laplacian\n",
    "\n",
    "laplacian_blur = cv.Laplacian(img_blur, cv.CV_64F, ksize = 3)\n",
    "laplacian_8u = np.uint8(np.absolute(laplacian_blur))\n",
    "\n",
    "# Prewitt\n",
    "kernelx = np.array([[1,1,1],[0,0,0],[-1,-1,-1]])\n",
    "kernely = np.array([[-1,0,1],[-1,0,1],[-1,0,1]])\n",
    "img_prewittx = cv.filter2D(img_blur, -1, kernelx)\n",
    "img_prewitty = cv.filter2D(img_blur, -1, kernely)\n",
    "img_prewitt = cv.add(img_prewittx, img_prewitty)\n",
    "\n",
    "# Scharr derivatives\n",
    "img_gradx = cv.Scharr(img_blur, cv.CV_64F, 1, 0)\n",
    "img_grady = cv.Scharr(img_blur, cv.CV_64F, 0, 1)\n",
    "\n",
    "grad_mag_L1_scharr_blur = cv.add(np.absolute(img_gradx), np.absolute(img_grady))\n",
    "grad_mag_L1_scharr_blur = cv.convertScaleAbs(grad_mag_L1_scharr_blur)\n",
    "\n",
    "# Canny operators (all with aperture size of 3)\n",
    "\n",
    "edges = cv.Canny(img, 60, 120, 3)\n",
    "\n",
    "cv.imshow('result', np.hstack((grad_mag_L1_blur, laplacian_8u ,img_prewitt ,grad_mag_L1_scharr_blur ,edges)))\n",
    "cv.waitKey(0)\n",
    "cv.destroyAllWindows()"
   ]
  },
  {
   "cell_type": "markdown",
   "id": "59dbe4f3",
   "metadata": {},
   "source": [
    "- Sobel operator can detect the edges with performance above average.\n",
    "- Laplacian operator find less edges in the image compared to sobel. \n",
    "- Although, prewit can detect the edges, but the line of edges is blurry. \n",
    "- Scharr derivatives can detect more edges than sobel operator but it contain a lot of noice.\n",
    "- Canny operator can detect the edges most clearly."
   ]
  },
  {
   "cell_type": "markdown",
   "id": "0c498329",
   "metadata": {},
   "source": [
    "## Exercise 4"
   ]
  },
  {
   "cell_type": "code",
   "execution_count": 11,
   "id": "b39465d6",
   "metadata": {},
   "outputs": [],
   "source": [
    "img = cv.imread('electronic.jfif')\n",
    "img_gray = cv.cvtColor(img, cv.COLOR_BGR2GRAY)\n",
    "img_bil = cv.bilateralFilter(img_gray, 10, 75, 75)\n",
    "\n",
    "ret, th = cv.threshold(img_bil, 200, 255, cv.THRESH_BINARY)\n",
    "\n",
    "contour, hierarchy = cv.findContours(th, cv.RETR_TREE, cv.CHAIN_APPROX_SIMPLE)\n",
    "    \n",
    "for i in range(len(contour)):\n",
    "    \n",
    "    cnt = contour[i]\n",
    "\n",
    "    x, y, w, h = cv.boundingRect(cnt)\n",
    "    cv.rectangle(img, (x,y), (x+w, y+h), (0, 0, 255), 2)\n",
    "\n",
    "\n",
    "cv.imshow('name_window', img)\n",
    "cv.waitKey(0)\n",
    "cv.destroyAllWindows()"
   ]
  }
 ],
 "metadata": {
  "kernelspec": {
   "display_name": "Python 3 (ipykernel)",
   "language": "python",
   "name": "python3"
  },
  "language_info": {
   "codemirror_mode": {
    "name": "ipython",
    "version": 3
   },
   "file_extension": ".py",
   "mimetype": "text/x-python",
   "name": "python",
   "nbconvert_exporter": "python",
   "pygments_lexer": "ipython3",
   "version": "3.10.5"
  }
 },
 "nbformat": 4,
 "nbformat_minor": 5
}
