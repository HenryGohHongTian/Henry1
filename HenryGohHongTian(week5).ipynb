{
 "cells": [
  {
   "cell_type": "code",
   "execution_count": 4,
   "id": "6505a625",
   "metadata": {},
   "outputs": [
    {
     "data": {
      "text/plain": [
       "True"
      ]
     },
     "execution_count": 4,
     "metadata": {},
     "output_type": "execute_result"
    }
   ],
   "source": [
    "import sys\n",
    "assert sys.version_info >= (3,7)\n",
    "\n",
    "import cv2 as cv\n",
    "import numpy as np\n",
    "import imutils\n",
    "\n",
    "if not cv.useOptimized():\n",
    "    cv.setUseOptimized(True)\n",
    "\n",
    "cv.useOptimized()"
   ]
  },
  {
   "cell_type": "markdown",
   "id": "8ae30e6b",
   "metadata": {},
   "source": [
    "## Activity 1"
   ]
  },
  {
   "cell_type": "code",
   "execution_count": 19,
   "id": "11f5a555",
   "metadata": {},
   "outputs": [],
   "source": [
    "def crop_grid(img, num_horizontal_grid, num_vertical_grid, line_color):\n",
    "    img = cv.imread(img)\n",
    "    img_copy = img.copy()\n",
    "\n",
    "    height, width = img.shape[:2]\n",
    "\n",
    "    M, N = int(height/num_horizontal_grid), int(width/num_vertical_grid)\n",
    "\n",
    "    x1, y1 = 0, 0\n",
    "\n",
    "    for y in range(0, height, M):\n",
    "        for x in range(0, width, N):\n",
    "\n",
    "            y1 = y + M\n",
    "            x1 = x + N\n",
    "\n",
    "            if x1 >= width and y1 >= height:\n",
    "                x1 = width - 1\n",
    "                y1 = height - 1\n",
    "\n",
    "            elif y1 >= height:\n",
    "                y1 = height - 1\n",
    "                cv.rectangle(img_copy, (x, y), (x1, y1), line_color, 1)\n",
    "\n",
    "            elif x1 >= width:\n",
    "                x1 = width - 1\n",
    "                cv.rectangle(img_copy, (x, y), (x1, y1), line_color, 1)\n",
    "\n",
    "            else:\n",
    "                cv.rectangle(img_copy, (x, y), (x1, y1), line_color, 1)\n",
    "\n",
    "    cv.imshow('Patched image', img_copy)\n",
    "    cv.waitKey(0)\n",
    "    cv.destroyAllWindows()"
   ]
  },
  {
   "cell_type": "code",
   "execution_count": 44,
   "id": "0164210e",
   "metadata": {},
   "outputs": [],
   "source": [
    "crop_grid('lena.jfif', 3, 3, (255, 0, 0))"
   ]
  },
  {
   "cell_type": "markdown",
   "id": "379a80ee",
   "metadata": {},
   "source": [
    "## Activity 2"
   ]
  },
  {
   "cell_type": "code",
   "execution_count": 50,
   "id": "7710123f",
   "metadata": {},
   "outputs": [],
   "source": [
    "img1 = cv.imread('lena.jfif')\n",
    "img2 = cv.imread('coins.jfif')\n",
    "\n",
    "new_shape = img1.shape[:2]\n",
    "img2 = cv.resize(img2, new_shape)\n",
    "\n",
    "alpha = 0\n",
    "x = 0\n",
    "dst = cv.addWeighted(img1, alpha, img2, 0.25, 0)\n",
    "\n",
    "for x in range(4):\n",
    "    \n",
    "    alpha += 0.25\n",
    "    x += 1\n",
    "        \n",
    "    seq = cv.addWeighted(img1, alpha, img2, 0.25, 0)\n",
    "\n",
    "    dst = np.hstack((dst, seq))\n",
    "    \n",
    "cv.imshow('Image sequences', dst)\n",
    "cv.waitKey(0)\n",
    "cv.destroyAllWindows()"
   ]
  },
  {
   "cell_type": "markdown",
   "id": "e1b62a86",
   "metadata": {},
   "source": [
    "## Activity 3"
   ]
  },
  {
   "cell_type": "code",
   "execution_count": 51,
   "id": "a3534db8",
   "metadata": {},
   "outputs": [],
   "source": [
    "img = cv.imread('lena.jfif')\n",
    "rotated = imutils.rotate_bound(img, 45)\n",
    "\n",
    "cv.imshow(\"Rotated Without Cropping\", rotated)\n",
    "cv.waitKey(0)\n",
    "cv.destroyAllWindows()"
   ]
  },
  {
   "cell_type": "markdown",
   "id": "094bf71e",
   "metadata": {},
   "source": [
    "## Activity 4"
   ]
  },
  {
   "cell_type": "code",
   "execution_count": 52,
   "id": "1da9f944",
   "metadata": {},
   "outputs": [],
   "source": [
    "img1 = cv.imread('native-bee.png')\n",
    "img2 = cv.imread('flower.jfif')\n",
    "\n",
    "height, width = img2.shape[:2]\n",
    "roi = img1[0:height, 0:width]\n",
    "\n",
    "img2gray = cv.cvtColor(img2,cv.COLOR_BGR2GRAY)\n",
    "ret, mask = cv.threshold(img2gray, 70, 255, cv.THRESH_BINARY)\n",
    "mask_inv = cv.bitwise_not(mask)\n",
    "\n",
    "img1_bg = cv.bitwise_and(roi,roi,mask = mask_inv)\n",
    "\n",
    "img2_fg = cv.bitwise_and(img2,img2,mask = mask)\n",
    "\n",
    "dst = cv.add(img1_bg,img2_fg)\n",
    "img1[0:height, 0:width ] = dst\n",
    "\n",
    "cv.imshow('Bee and flowers',img1)\n",
    "cv.waitKey(0)\n",
    "cv.destroyAllWindows()"
   ]
  },
  {
   "cell_type": "code",
   "execution_count": null,
   "id": "914e4cd0",
   "metadata": {},
   "outputs": [],
   "source": []
  }
 ],
 "metadata": {
  "kernelspec": {
   "display_name": "Python 3 (ipykernel)",
   "language": "python",
   "name": "python3"
  },
  "language_info": {
   "codemirror_mode": {
    "name": "ipython",
    "version": 3
   },
   "file_extension": ".py",
   "mimetype": "text/x-python",
   "name": "python",
   "nbconvert_exporter": "python",
   "pygments_lexer": "ipython3",
   "version": "3.10.5"
  }
 },
 "nbformat": 4,
 "nbformat_minor": 5
}
